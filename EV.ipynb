{
  "nbformat": 4,
  "nbformat_minor": 0,
  "metadata": {
    "colab": {
      "provenance": []
    },
    "kernelspec": {
      "name": "python3",
      "display_name": "Python 3"
    },
    "language_info": {
      "name": "python"
    }
  },
  "cells": [
    {
      "cell_type": "code",
      "execution_count": 13,
      "metadata": {
        "colab": {
          "base_uri": "https://localhost:8080/"
        },
        "id": "986awVVo2Ggy",
        "outputId": "a65af0d6-c1ef-4e9f-a7d5-cf5a46d229b8"
      },
      "outputs": [
        {
          "output_type": "stream",
          "name": "stdout",
          "text": [
            "\u001b[2K   \u001b[90m━━━━━━━━━━━━━━━━━━━━━━━━━━━━━━━━━━━━━━━━\u001b[0m \u001b[32m1.8/1.8 MB\u001b[0m \u001b[31m8.8 MB/s\u001b[0m eta \u001b[36m0:00:00\u001b[0m\n",
            "\u001b[?25hPandas: 2.2.2\n"
          ]
        }
      ],
      "source": [
        "!pip -q install pandas matplotlib pyarrow fastparquet\n",
        "\n",
        "import os, io, json, re\n",
        "from pathlib import Path\n",
        "import pandas as pd\n",
        "import numpy as np\n",
        "import matplotlib.pyplot as plt\n",
        "\n",
        "pd.set_option('display.max_columns', 100)\n",
        "print(\"Pandas:\", pd.__version__)\n"
      ]
    },
    {
      "cell_type": "code",
      "source": [
        "from google.colab import files\n",
        "print(\"Select your dataset file (e.g., ACNdata.json or ACNdata.csv)\")\n",
        "uploaded = files.upload()  # pick your ACNdata file in the dialog\n",
        "\n",
        "DS_PATH = next(iter(uploaded)) if uploaded else None\n",
        "print(\"DS_PATH =\", DS_PATH)\n"
      ],
      "metadata": {
        "colab": {
          "base_uri": "https://localhost:8080/",
          "height": 107
        },
        "id": "eNqr0LQm2SkC",
        "outputId": "dc89bb5a-c527-4491-aa9a-5944842c549a"
      },
      "execution_count": 14,
      "outputs": [
        {
          "output_type": "stream",
          "name": "stdout",
          "text": [
            "Select your dataset file (e.g., ACNdata.json or ACNdata.csv)\n"
          ]
        },
        {
          "output_type": "display_data",
          "data": {
            "text/plain": [
              "<IPython.core.display.HTML object>"
            ],
            "text/html": [
              "\n",
              "     <input type=\"file\" id=\"files-7c8a5a6f-fb6f-445b-80cd-d7eda47744b4\" name=\"files[]\" multiple disabled\n",
              "        style=\"border:none\" />\n",
              "     <output id=\"result-7c8a5a6f-fb6f-445b-80cd-d7eda47744b4\">\n",
              "      Upload widget is only available when the cell has been executed in the\n",
              "      current browser session. Please rerun this cell to enable.\n",
              "      </output>\n",
              "      <script>// Copyright 2017 Google LLC\n",
              "//\n",
              "// Licensed under the Apache License, Version 2.0 (the \"License\");\n",
              "// you may not use this file except in compliance with the License.\n",
              "// You may obtain a copy of the License at\n",
              "//\n",
              "//      http://www.apache.org/licenses/LICENSE-2.0\n",
              "//\n",
              "// Unless required by applicable law or agreed to in writing, software\n",
              "// distributed under the License is distributed on an \"AS IS\" BASIS,\n",
              "// WITHOUT WARRANTIES OR CONDITIONS OF ANY KIND, either express or implied.\n",
              "// See the License for the specific language governing permissions and\n",
              "// limitations under the License.\n",
              "\n",
              "/**\n",
              " * @fileoverview Helpers for google.colab Python module.\n",
              " */\n",
              "(function(scope) {\n",
              "function span(text, styleAttributes = {}) {\n",
              "  const element = document.createElement('span');\n",
              "  element.textContent = text;\n",
              "  for (const key of Object.keys(styleAttributes)) {\n",
              "    element.style[key] = styleAttributes[key];\n",
              "  }\n",
              "  return element;\n",
              "}\n",
              "\n",
              "// Max number of bytes which will be uploaded at a time.\n",
              "const MAX_PAYLOAD_SIZE = 100 * 1024;\n",
              "\n",
              "function _uploadFiles(inputId, outputId) {\n",
              "  const steps = uploadFilesStep(inputId, outputId);\n",
              "  const outputElement = document.getElementById(outputId);\n",
              "  // Cache steps on the outputElement to make it available for the next call\n",
              "  // to uploadFilesContinue from Python.\n",
              "  outputElement.steps = steps;\n",
              "\n",
              "  return _uploadFilesContinue(outputId);\n",
              "}\n",
              "\n",
              "// This is roughly an async generator (not supported in the browser yet),\n",
              "// where there are multiple asynchronous steps and the Python side is going\n",
              "// to poll for completion of each step.\n",
              "// This uses a Promise to block the python side on completion of each step,\n",
              "// then passes the result of the previous step as the input to the next step.\n",
              "function _uploadFilesContinue(outputId) {\n",
              "  const outputElement = document.getElementById(outputId);\n",
              "  const steps = outputElement.steps;\n",
              "\n",
              "  const next = steps.next(outputElement.lastPromiseValue);\n",
              "  return Promise.resolve(next.value.promise).then((value) => {\n",
              "    // Cache the last promise value to make it available to the next\n",
              "    // step of the generator.\n",
              "    outputElement.lastPromiseValue = value;\n",
              "    return next.value.response;\n",
              "  });\n",
              "}\n",
              "\n",
              "/**\n",
              " * Generator function which is called between each async step of the upload\n",
              " * process.\n",
              " * @param {string} inputId Element ID of the input file picker element.\n",
              " * @param {string} outputId Element ID of the output display.\n",
              " * @return {!Iterable<!Object>} Iterable of next steps.\n",
              " */\n",
              "function* uploadFilesStep(inputId, outputId) {\n",
              "  const inputElement = document.getElementById(inputId);\n",
              "  inputElement.disabled = false;\n",
              "\n",
              "  const outputElement = document.getElementById(outputId);\n",
              "  outputElement.innerHTML = '';\n",
              "\n",
              "  const pickedPromise = new Promise((resolve) => {\n",
              "    inputElement.addEventListener('change', (e) => {\n",
              "      resolve(e.target.files);\n",
              "    });\n",
              "  });\n",
              "\n",
              "  const cancel = document.createElement('button');\n",
              "  inputElement.parentElement.appendChild(cancel);\n",
              "  cancel.textContent = 'Cancel upload';\n",
              "  const cancelPromise = new Promise((resolve) => {\n",
              "    cancel.onclick = () => {\n",
              "      resolve(null);\n",
              "    };\n",
              "  });\n",
              "\n",
              "  // Wait for the user to pick the files.\n",
              "  const files = yield {\n",
              "    promise: Promise.race([pickedPromise, cancelPromise]),\n",
              "    response: {\n",
              "      action: 'starting',\n",
              "    }\n",
              "  };\n",
              "\n",
              "  cancel.remove();\n",
              "\n",
              "  // Disable the input element since further picks are not allowed.\n",
              "  inputElement.disabled = true;\n",
              "\n",
              "  if (!files) {\n",
              "    return {\n",
              "      response: {\n",
              "        action: 'complete',\n",
              "      }\n",
              "    };\n",
              "  }\n",
              "\n",
              "  for (const file of files) {\n",
              "    const li = document.createElement('li');\n",
              "    li.append(span(file.name, {fontWeight: 'bold'}));\n",
              "    li.append(span(\n",
              "        `(${file.type || 'n/a'}) - ${file.size} bytes, ` +\n",
              "        `last modified: ${\n",
              "            file.lastModifiedDate ? file.lastModifiedDate.toLocaleDateString() :\n",
              "                                    'n/a'} - `));\n",
              "    const percent = span('0% done');\n",
              "    li.appendChild(percent);\n",
              "\n",
              "    outputElement.appendChild(li);\n",
              "\n",
              "    const fileDataPromise = new Promise((resolve) => {\n",
              "      const reader = new FileReader();\n",
              "      reader.onload = (e) => {\n",
              "        resolve(e.target.result);\n",
              "      };\n",
              "      reader.readAsArrayBuffer(file);\n",
              "    });\n",
              "    // Wait for the data to be ready.\n",
              "    let fileData = yield {\n",
              "      promise: fileDataPromise,\n",
              "      response: {\n",
              "        action: 'continue',\n",
              "      }\n",
              "    };\n",
              "\n",
              "    // Use a chunked sending to avoid message size limits. See b/62115660.\n",
              "    let position = 0;\n",
              "    do {\n",
              "      const length = Math.min(fileData.byteLength - position, MAX_PAYLOAD_SIZE);\n",
              "      const chunk = new Uint8Array(fileData, position, length);\n",
              "      position += length;\n",
              "\n",
              "      const base64 = btoa(String.fromCharCode.apply(null, chunk));\n",
              "      yield {\n",
              "        response: {\n",
              "          action: 'append',\n",
              "          file: file.name,\n",
              "          data: base64,\n",
              "        },\n",
              "      };\n",
              "\n",
              "      let percentDone = fileData.byteLength === 0 ?\n",
              "          100 :\n",
              "          Math.round((position / fileData.byteLength) * 100);\n",
              "      percent.textContent = `${percentDone}% done`;\n",
              "\n",
              "    } while (position < fileData.byteLength);\n",
              "  }\n",
              "\n",
              "  // All done.\n",
              "  yield {\n",
              "    response: {\n",
              "      action: 'complete',\n",
              "    }\n",
              "  };\n",
              "}\n",
              "\n",
              "scope.google = scope.google || {};\n",
              "scope.google.colab = scope.google.colab || {};\n",
              "scope.google.colab._files = {\n",
              "  _uploadFiles,\n",
              "  _uploadFilesContinue,\n",
              "};\n",
              "})(self);\n",
              "</script> "
            ]
          },
          "metadata": {}
        },
        {
          "output_type": "stream",
          "name": "stdout",
          "text": [
            "Saving ACNdata.json to ACNdata (1).json\n",
            "DS_PATH = ACNdata (1).json\n"
          ]
        }
      ]
    },
    {
      "cell_type": "code",
      "source": [
        "ext = Path(DS_PATH).suffix.lower()\n",
        "print(\"Detected extension:\", ext)\n",
        "\n",
        "raw_text = None\n",
        "if ext in [\".json\", \".ndjson\", \".txt\"]:\n",
        "    with open(DS_PATH, \"r\", encoding=\"utf-8\", errors=\"ignore\") as f:\n",
        "        raw_text = f.read()\n",
        "    print(\"First 300 chars:\\n\", raw_text[:300].replace(\"\\n\", \" \"))\n",
        "else:\n",
        "    print(\"Non-text format (likely CSV/Excel) – skipping raw preview.\")\n"
      ],
      "metadata": {
        "colab": {
          "base_uri": "https://localhost:8080/"
        },
        "id": "BJ3mjrJVCx43",
        "outputId": "7db79732-8031-42b1-d8ff-493cdfc4053c"
      },
      "execution_count": 15,
      "outputs": [
        {
          "output_type": "stream",
          "name": "stdout",
          "text": [
            "Detected extension: .json\n",
            "First 300 chars:\n",
            " {   \"_meta\": {     \"end\": \"Sat, 01 Apr 2023 23:59:00 GMT\",     \"min_kWh\": 1,     \"site\": \"caltech\",     \"start\": \"Fri, 01 Apr 2022 00:00:00 GMT\"   },   \"_items\": [] }\n"
          ]
        }
      ]
    },
    {
      "cell_type": "code",
      "source": [
        "def try_load_json(text):\n",
        "    try:\n",
        "        return json.loads(text), None\n",
        "    except Exception as e:\n",
        "        return None, str(e)\n",
        "\n",
        "def attempt_safe_repair(original_text, out_path):\n",
        "    \"\"\"\n",
        "    Minimal repair for this pattern:\n",
        "      { \"_meta\": {...}, \"_items\": [\n",
        "    It preserves _meta and sets _items to [].\n",
        "    \"\"\"\n",
        "    meta_match = re.search(r'\"_meta\"\\s*:\\s*\\{.*?\\}', original_text, flags=re.DOTALL)\n",
        "    if not meta_match:\n",
        "        return None, None, \"No _meta block found; cannot safely repair.\"\n",
        "\n",
        "    meta_obj_text_match = re.search(r'\\{.*\\}', meta_match.group(0), flags=re.DOTALL)\n",
        "    if not meta_obj_text_match:\n",
        "        return None, None, \"Could not isolate _meta object.\"\n",
        "\n",
        "    meta_obj = json.loads(meta_obj_text_match.group(0))\n",
        "    repaired = {\"_meta\": meta_obj, \"_items\": []}\n",
        "\n",
        "    with open(out_path, \"w\", encoding=\"utf-8\") as g:\n",
        "        json.dump(repaired, g, indent=2)\n",
        "    return repaired, out_path, \"Repaired by preserving _meta and setting _items to [].\"\n",
        "\n",
        "# Try parse if JSON\n",
        "loaded_obj = None\n",
        "repaired_note = None\n",
        "\n",
        "if ext in [\".json\", \".ndjson\", \".txt\"]:\n",
        "    loaded_obj, err = try_load_json(raw_text)\n",
        "    if err:\n",
        "        print(\"JSON parse error ->\", err)\n",
        "        # If ends right after \"_items\": [\n",
        "        if raw_text and re.search(r'\"_items\"\\s*:\\s*\\[\\s*$', raw_text.strip()):\n",
        "            print(\"Detected truncation at _items... attempting safe repair...\")\n",
        "            REPAIRED_PATH = str(Path(DS_PATH).with_name(Path(DS_PATH).stem + \"_repaired.json\"))\n",
        "            loaded_obj, new_path, repaired_note = attempt_safe_repair(raw_text, REPAIRED_PATH)\n",
        "            if loaded_obj is not None:\n",
        "                DS_PATH = new_path  # use repaired file going forward\n",
        "                print(\"Repair successful. New file ->\", DS_PATH)\n",
        "                print(\"Note:\", repaired_note)\n",
        "            else:\n",
        "                print(\"Repair failed:\", repaired_note)\n",
        "        else:\n",
        "            print(\"No safe auto-repair pattern recognized. Please re-export the JSON cleanly.\")\n",
        "    else:\n",
        "        print(\"JSON parsed successfully without repair.\")\n",
        "else:\n",
        "    print(\"Skipping JSON validation; non-JSON format detected.\")\n"
      ],
      "metadata": {
        "colab": {
          "base_uri": "https://localhost:8080/"
        },
        "id": "0g2UJX2-2SgY",
        "outputId": "fafec579-bcc4-4380-e693-b6002eb45fd5"
      },
      "execution_count": 16,
      "outputs": [
        {
          "output_type": "stream",
          "name": "stdout",
          "text": [
            "JSON parsed successfully without repair.\n"
          ]
        }
      ]
    },
    {
      "cell_type": "code",
      "source": [
        "def load_to_dataframe(path):\n",
        "    ext = Path(path).suffix.lower()\n",
        "    if ext == \".csv\":\n",
        "        return pd.read_csv(path)\n",
        "\n",
        "    if ext in [\".json\", \".ndjson\", \".txt\"]:\n",
        "        with open(path, \"r\", encoding=\"utf-8\", errors=\"ignore\") as f:\n",
        "            txt = f.read()\n",
        "        obj = json.loads(txt)\n",
        "\n",
        "        # Capture meta if present\n",
        "        meta = obj.get(\"_meta\", {}) if isinstance(obj, dict) else {}\n",
        "        if meta:\n",
        "            print(\"META:\", meta)\n",
        "\n",
        "        if isinstance(obj, dict):\n",
        "            if \"_items\" in obj and isinstance(obj[\"_items\"], list):\n",
        "                return pd.DataFrame(obj[\"_items\"])\n",
        "            # Fallback: flatten dict\n",
        "            return pd.json_normalize(obj)\n",
        "\n",
        "        if isinstance(obj, list):\n",
        "            return pd.DataFrame(obj)\n",
        "\n",
        "        raise ValueError(\"Unsupported JSON structure.\")\n",
        "\n",
        "    raise ValueError(f\"Unsupported extension: {ext}\")\n",
        "\n",
        "df = load_to_dataframe(DS_PATH)\n",
        "print(\"DataFrame shape:\", df.shape)\n",
        "df.head(10)\n"
      ],
      "metadata": {
        "colab": {
          "base_uri": "https://localhost:8080/",
          "height": 88
        },
        "id": "Vc3Dd9qt2Sa8",
        "outputId": "b02eda66-d7ce-4c97-dc3f-cf9560e9a0b5"
      },
      "execution_count": 17,
      "outputs": [
        {
          "output_type": "stream",
          "name": "stdout",
          "text": [
            "META: {'end': 'Sat, 01 Apr 2023 23:59:00 GMT', 'min_kWh': 1, 'site': 'caltech', 'start': 'Fri, 01 Apr 2022 00:00:00 GMT'}\n",
            "DataFrame shape: (0, 0)\n"
          ]
        },
        {
          "output_type": "execute_result",
          "data": {
            "text/plain": [
              "Empty DataFrame\n",
              "Columns: []\n",
              "Index: []"
            ],
            "text/html": [
              "\n",
              "  <div id=\"df-5fa8f09b-9bba-4110-b589-3eec0fb2c68f\" class=\"colab-df-container\">\n",
              "    <div>\n",
              "<style scoped>\n",
              "    .dataframe tbody tr th:only-of-type {\n",
              "        vertical-align: middle;\n",
              "    }\n",
              "\n",
              "    .dataframe tbody tr th {\n",
              "        vertical-align: top;\n",
              "    }\n",
              "\n",
              "    .dataframe thead th {\n",
              "        text-align: right;\n",
              "    }\n",
              "</style>\n",
              "<table border=\"1\" class=\"dataframe\">\n",
              "  <thead>\n",
              "    <tr style=\"text-align: right;\">\n",
              "      <th></th>\n",
              "    </tr>\n",
              "  </thead>\n",
              "  <tbody>\n",
              "  </tbody>\n",
              "</table>\n",
              "</div>\n",
              "    <div class=\"colab-df-buttons\">\n",
              "\n",
              "  <div class=\"colab-df-container\">\n",
              "    <button class=\"colab-df-convert\" onclick=\"convertToInteractive('df-5fa8f09b-9bba-4110-b589-3eec0fb2c68f')\"\n",
              "            title=\"Convert this dataframe to an interactive table.\"\n",
              "            style=\"display:none;\">\n",
              "\n",
              "  <svg xmlns=\"http://www.w3.org/2000/svg\" height=\"24px\" viewBox=\"0 -960 960 960\">\n",
              "    <path d=\"M120-120v-720h720v720H120Zm60-500h600v-160H180v160Zm220 220h160v-160H400v160Zm0 220h160v-160H400v160ZM180-400h160v-160H180v160Zm440 0h160v-160H620v160ZM180-180h160v-160H180v160Zm440 0h160v-160H620v160Z\"/>\n",
              "  </svg>\n",
              "    </button>\n",
              "\n",
              "  <style>\n",
              "    .colab-df-container {\n",
              "      display:flex;\n",
              "      gap: 12px;\n",
              "    }\n",
              "\n",
              "    .colab-df-convert {\n",
              "      background-color: #E8F0FE;\n",
              "      border: none;\n",
              "      border-radius: 50%;\n",
              "      cursor: pointer;\n",
              "      display: none;\n",
              "      fill: #1967D2;\n",
              "      height: 32px;\n",
              "      padding: 0 0 0 0;\n",
              "      width: 32px;\n",
              "    }\n",
              "\n",
              "    .colab-df-convert:hover {\n",
              "      background-color: #E2EBFA;\n",
              "      box-shadow: 0px 1px 2px rgba(60, 64, 67, 0.3), 0px 1px 3px 1px rgba(60, 64, 67, 0.15);\n",
              "      fill: #174EA6;\n",
              "    }\n",
              "\n",
              "    .colab-df-buttons div {\n",
              "      margin-bottom: 4px;\n",
              "    }\n",
              "\n",
              "    [theme=dark] .colab-df-convert {\n",
              "      background-color: #3B4455;\n",
              "      fill: #D2E3FC;\n",
              "    }\n",
              "\n",
              "    [theme=dark] .colab-df-convert:hover {\n",
              "      background-color: #434B5C;\n",
              "      box-shadow: 0px 1px 3px 1px rgba(0, 0, 0, 0.15);\n",
              "      filter: drop-shadow(0px 1px 2px rgba(0, 0, 0, 0.3));\n",
              "      fill: #FFFFFF;\n",
              "    }\n",
              "  </style>\n",
              "\n",
              "    <script>\n",
              "      const buttonEl =\n",
              "        document.querySelector('#df-5fa8f09b-9bba-4110-b589-3eec0fb2c68f button.colab-df-convert');\n",
              "      buttonEl.style.display =\n",
              "        google.colab.kernel.accessAllowed ? 'block' : 'none';\n",
              "\n",
              "      async function convertToInteractive(key) {\n",
              "        const element = document.querySelector('#df-5fa8f09b-9bba-4110-b589-3eec0fb2c68f');\n",
              "        const dataTable =\n",
              "          await google.colab.kernel.invokeFunction('convertToInteractive',\n",
              "                                                    [key], {});\n",
              "        if (!dataTable) return;\n",
              "\n",
              "        const docLinkHtml = 'Like what you see? Visit the ' +\n",
              "          '<a target=\"_blank\" href=https://colab.research.google.com/notebooks/data_table.ipynb>data table notebook</a>'\n",
              "          + ' to learn more about interactive tables.';\n",
              "        element.innerHTML = '';\n",
              "        dataTable['output_type'] = 'display_data';\n",
              "        await google.colab.output.renderOutput(dataTable, element);\n",
              "        const docLink = document.createElement('div');\n",
              "        docLink.innerHTML = docLinkHtml;\n",
              "        element.appendChild(docLink);\n",
              "      }\n",
              "    </script>\n",
              "  </div>\n",
              "\n",
              "\n",
              "    </div>\n",
              "  </div>\n"
            ],
            "application/vnd.google.colaboratory.intrinsic+json": {
              "type": "dataframe",
              "variable_name": "df",
              "summary": "{\n  \"name\": \"df\",\n  \"rows\": 0,\n  \"fields\": []\n}"
            }
          },
          "metadata": {},
          "execution_count": 17
        }
      ]
    },
    {
      "cell_type": "code",
      "source": [
        "# ===== Step 7 (robust) — Inspect schema & basic info =====\n",
        "from IPython.display import display\n",
        "import numpy as np\n",
        "\n",
        "# 0) Quick sanity\n",
        "try:\n",
        "    _ = df\n",
        "except NameError:\n",
        "    raise RuntimeError(\"`df` is not defined. Run Step 6 to load the dataset first.\")\n",
        "\n",
        "print(\"Shape:\", df.shape)\n",
        "print(\"\\nColumns:\", list(df.columns))\n",
        "\n",
        "# 1) Dtypes and nulls (works even if empty)\n",
        "print(\"\\nDtypes:\")\n",
        "print(df.dtypes)\n",
        "\n",
        "print(\"\\nNulls per column:\")\n",
        "print(df.isnull().sum().sort_values(ascending=False))\n",
        "\n",
        "# 2) Describe safely\n",
        "if df.empty:\n",
        "    print(\"\\n⚠️ DataFrame is EMPTY — cannot compute describe().\")\n",
        "    print(\"Go back to Step 6 and confirm DS_PATH and the file contents.\")\n",
        "else:\n",
        "    num_cols = df.select_dtypes(include=[np.number]).columns.tolist()\n",
        "    obj_cols = df.select_dtypes(include=[\"object\"]).columns.tolist()\n",
        "\n",
        "    if num_cols:\n",
        "        print(\"\\nDescriptive stats (numeric):\")\n",
        "        display(df[num_cols].describe())\n",
        "    else:\n",
        "        print(\"\\n(No numeric columns found to describe.)\")\n",
        "\n",
        "    if obj_cols:\n",
        "        print(\"\\nDescriptive stats (object):\")\n",
        "        display(df[obj_cols].describe())\n",
        "    else:\n",
        "        print(\"\\n(No object columns found to describe.)\")\n"
      ],
      "metadata": {
        "colab": {
          "base_uri": "https://localhost:8080/"
        },
        "id": "mRXDceYd2SYB",
        "outputId": "a348ce45-7e61-4b3a-b11f-1590ee480559"
      },
      "execution_count": 20,
      "outputs": [
        {
          "output_type": "stream",
          "name": "stdout",
          "text": [
            "Shape: (0, 0)\n",
            "\n",
            "Columns: []\n",
            "\n",
            "Dtypes:\n",
            "Series([], dtype: object)\n",
            "\n",
            "Nulls per column:\n",
            "Series([], dtype: float64)\n",
            "\n",
            "⚠️ DataFrame is EMPTY — cannot compute describe().\n",
            "Go back to Step 6 and confirm DS_PATH and the file contents.\n"
          ]
        }
      ]
    },
    {
      "cell_type": "code",
      "source": [
        "# 8.1 Duplicates\n",
        "dup_count = df.duplicated().sum()\n",
        "print(f\"Duplicate rows: {dup_count}\")\n",
        "\n",
        "# 8.2 Negative values in numeric columns\n",
        "num_cols = df.select_dtypes(include=[np.number]).columns\n",
        "neg_summary = {col: int((df[col] < 0).sum()) for col in num_cols}\n",
        "print(\"Negative values per numeric column:\", neg_summary)\n",
        "\n",
        "# 8.3 Parse likely datetime columns (non-destructive: coerce errors)\n",
        "date_like_cols = [c for c in df.columns if any(k in c.lower() for k in [\"time\",\"date\",\"start\",\"end\",\"timestamp\"])]\n",
        "for c in date_like_cols:\n",
        "    try:\n",
        "        df[c] = pd.to_datetime(df[c], errors=\"coerce\")\n",
        "    except Exception:\n",
        "        pass\n",
        "print(\"Datetime-parsed columns:\", date_like_cols)\n",
        "\n",
        "# 8.4 Example domain rule: energy must be >= 0 and not absurdly large\n",
        "energy_cols = [c for c in df.columns if c.lower() in [\"kwh\",\"energy_kwh\",\"energy\"]]\n",
        "for c in energy_cols:\n",
        "    invalid = df[(df[c] < 0) | (df[c] > 1e6)]\n",
        "    print(f\"Out-of-range rows in {c}: {len(invalid)}\")\n"
      ],
      "metadata": {
        "colab": {
          "base_uri": "https://localhost:8080/"
        },
        "id": "VncYj5dy2SVb",
        "outputId": "58560ef8-7350-419d-ca04-73880c29e5ca"
      },
      "execution_count": 22,
      "outputs": [
        {
          "output_type": "stream",
          "name": "stdout",
          "text": [
            "Duplicate rows: 0\n",
            "Negative values per numeric column: {}\n",
            "Datetime-parsed columns: []\n"
          ]
        }
      ]
    },
    {
      "cell_type": "code",
      "source": [
        "# Histograms for first few numeric columns\n",
        "num_cols = df.select_dtypes(include=[np.number]).columns.tolist()\n",
        "print(\"Numeric columns:\", num_cols)\n",
        "\n",
        "for col in num_cols[:8]:  # limit to first 8 to keep it quick\n",
        "    plt.figure()\n",
        "    df[col].plot(kind=\"hist\", bins=50, title=f\"Distribution of {col}\")\n",
        "    plt.xlabel(col)\n",
        "    plt.ylabel(\"Count\")\n",
        "    plt.show()\n"
      ],
      "metadata": {
        "colab": {
          "base_uri": "https://localhost:8080/"
        },
        "id": "-ewMjMK72SSo",
        "outputId": "461eb4fb-2f0a-46cb-cdcf-78f79d023d37"
      },
      "execution_count": 23,
      "outputs": [
        {
          "output_type": "stream",
          "name": "stdout",
          "text": [
            "Numeric columns: []\n"
          ]
        }
      ]
    },
    {
      "cell_type": "code",
      "source": [
        "# Histograms for first few numeric columns\n",
        "num_cols = df.select_dtypes(include=[np.number]).columns.tolist()\n",
        "print(\"Numeric columns:\", num_cols)\n",
        "\n",
        "for col in num_cols[:8]:  # limit to first 8 to keep it quick\n",
        "    plt.figure()\n",
        "    df[col].plot(kind=\"hist\", bins=50, title=f\"Distribution of {col}\")\n",
        "    plt.xlabel(col)\n",
        "    plt.ylabel(\"Count\")\n",
        "    plt.show()\n"
      ],
      "metadata": {
        "colab": {
          "base_uri": "https://localhost:8080/"
        },
        "id": "5Vmxhkrd2SP-",
        "outputId": "b2fb4747-044f-465d-e163-a928c3595cc4"
      },
      "execution_count": 24,
      "outputs": [
        {
          "output_type": "stream",
          "name": "stdout",
          "text": [
            "Numeric columns: []\n"
          ]
        }
      ]
    },
    {
      "cell_type": "code",
      "source": [
        "df_clean = df.copy()\n",
        "\n",
        "# Drop exact duplicate rows\n",
        "df_clean = df_clean.drop_duplicates().reset_index(drop=True)\n",
        "\n",
        "# Fill numeric NA with median (change if you prefer mean or specific values)\n",
        "for col in df_clean.select_dtypes(include=[np.number]).columns:\n",
        "    if df_clean[col].isna().any():\n",
        "        df_clean[col] = df_clean[col].fillna(df_clean[col].median())\n",
        "\n",
        "# Fill string NA with 'Unknown' (or drop if appropriate)\n",
        "for col in df_clean.select_dtypes(include=[object]).columns:\n",
        "    if df_clean[col].isna().any():\n",
        "        df_clean[col] = df_clean[col].fillna(\"Unknown\")\n",
        "\n",
        "print(\"Cleaned shape:\", df_clean.shape)\n",
        "df_clean.head()\n"
      ],
      "metadata": {
        "colab": {
          "base_uri": "https://localhost:8080/",
          "height": 70
        },
        "id": "HV5Fugvr2SNW",
        "outputId": "1639e042-20fd-488d-a26c-1714b48ee408"
      },
      "execution_count": 25,
      "outputs": [
        {
          "output_type": "stream",
          "name": "stdout",
          "text": [
            "Cleaned shape: (0, 0)\n"
          ]
        },
        {
          "output_type": "execute_result",
          "data": {
            "text/plain": [
              "Empty DataFrame\n",
              "Columns: []\n",
              "Index: []"
            ],
            "text/html": [
              "\n",
              "  <div id=\"df-61bcf0ba-f4e0-4ded-9822-17109f20a759\" class=\"colab-df-container\">\n",
              "    <div>\n",
              "<style scoped>\n",
              "    .dataframe tbody tr th:only-of-type {\n",
              "        vertical-align: middle;\n",
              "    }\n",
              "\n",
              "    .dataframe tbody tr th {\n",
              "        vertical-align: top;\n",
              "    }\n",
              "\n",
              "    .dataframe thead th {\n",
              "        text-align: right;\n",
              "    }\n",
              "</style>\n",
              "<table border=\"1\" class=\"dataframe\">\n",
              "  <thead>\n",
              "    <tr style=\"text-align: right;\">\n",
              "      <th></th>\n",
              "    </tr>\n",
              "  </thead>\n",
              "  <tbody>\n",
              "  </tbody>\n",
              "</table>\n",
              "</div>\n",
              "    <div class=\"colab-df-buttons\">\n",
              "\n",
              "  <div class=\"colab-df-container\">\n",
              "    <button class=\"colab-df-convert\" onclick=\"convertToInteractive('df-61bcf0ba-f4e0-4ded-9822-17109f20a759')\"\n",
              "            title=\"Convert this dataframe to an interactive table.\"\n",
              "            style=\"display:none;\">\n",
              "\n",
              "  <svg xmlns=\"http://www.w3.org/2000/svg\" height=\"24px\" viewBox=\"0 -960 960 960\">\n",
              "    <path d=\"M120-120v-720h720v720H120Zm60-500h600v-160H180v160Zm220 220h160v-160H400v160Zm0 220h160v-160H400v160ZM180-400h160v-160H180v160Zm440 0h160v-160H620v160ZM180-180h160v-160H180v160Zm440 0h160v-160H620v160Z\"/>\n",
              "  </svg>\n",
              "    </button>\n",
              "\n",
              "  <style>\n",
              "    .colab-df-container {\n",
              "      display:flex;\n",
              "      gap: 12px;\n",
              "    }\n",
              "\n",
              "    .colab-df-convert {\n",
              "      background-color: #E8F0FE;\n",
              "      border: none;\n",
              "      border-radius: 50%;\n",
              "      cursor: pointer;\n",
              "      display: none;\n",
              "      fill: #1967D2;\n",
              "      height: 32px;\n",
              "      padding: 0 0 0 0;\n",
              "      width: 32px;\n",
              "    }\n",
              "\n",
              "    .colab-df-convert:hover {\n",
              "      background-color: #E2EBFA;\n",
              "      box-shadow: 0px 1px 2px rgba(60, 64, 67, 0.3), 0px 1px 3px 1px rgba(60, 64, 67, 0.15);\n",
              "      fill: #174EA6;\n",
              "    }\n",
              "\n",
              "    .colab-df-buttons div {\n",
              "      margin-bottom: 4px;\n",
              "    }\n",
              "\n",
              "    [theme=dark] .colab-df-convert {\n",
              "      background-color: #3B4455;\n",
              "      fill: #D2E3FC;\n",
              "    }\n",
              "\n",
              "    [theme=dark] .colab-df-convert:hover {\n",
              "      background-color: #434B5C;\n",
              "      box-shadow: 0px 1px 3px 1px rgba(0, 0, 0, 0.15);\n",
              "      filter: drop-shadow(0px 1px 2px rgba(0, 0, 0, 0.3));\n",
              "      fill: #FFFFFF;\n",
              "    }\n",
              "  </style>\n",
              "\n",
              "    <script>\n",
              "      const buttonEl =\n",
              "        document.querySelector('#df-61bcf0ba-f4e0-4ded-9822-17109f20a759 button.colab-df-convert');\n",
              "      buttonEl.style.display =\n",
              "        google.colab.kernel.accessAllowed ? 'block' : 'none';\n",
              "\n",
              "      async function convertToInteractive(key) {\n",
              "        const element = document.querySelector('#df-61bcf0ba-f4e0-4ded-9822-17109f20a759');\n",
              "        const dataTable =\n",
              "          await google.colab.kernel.invokeFunction('convertToInteractive',\n",
              "                                                    [key], {});\n",
              "        if (!dataTable) return;\n",
              "\n",
              "        const docLinkHtml = 'Like what you see? Visit the ' +\n",
              "          '<a target=\"_blank\" href=https://colab.research.google.com/notebooks/data_table.ipynb>data table notebook</a>'\n",
              "          + ' to learn more about interactive tables.';\n",
              "        element.innerHTML = '';\n",
              "        dataTable['output_type'] = 'display_data';\n",
              "        await google.colab.output.renderOutput(dataTable, element);\n",
              "        const docLink = document.createElement('div');\n",
              "        docLink.innerHTML = docLinkHtml;\n",
              "        element.appendChild(docLink);\n",
              "      }\n",
              "    </script>\n",
              "  </div>\n",
              "\n",
              "\n",
              "    </div>\n",
              "  </div>\n"
            ],
            "application/vnd.google.colaboratory.intrinsic+json": {
              "type": "dataframe",
              "variable_name": "df_clean",
              "summary": "{\n  \"name\": \"df_clean\",\n  \"rows\": 0,\n  \"fields\": []\n}"
            }
          },
          "metadata": {},
          "execution_count": 25
        }
      ]
    },
    {
      "cell_type": "code",
      "source": [
        "out_base = Path(DS_PATH).with_suffix(\"\")  # remove extension\n",
        "csv_path = str(out_base) + \"_clean.csv\"\n",
        "parquet_path = str(out_base) + \"_clean.parquet\"\n",
        "\n",
        "df_clean.to_csv(csv_path, index=False)\n",
        "df_clean.to_parquet(parquet_path, index=False)\n",
        "\n",
        "print(\"Saved:\")\n",
        "print(\" -\", csv_path)\n",
        "print(\" -\", parquet_path)\n"
      ],
      "metadata": {
        "colab": {
          "base_uri": "https://localhost:8080/"
        },
        "id": "eqWJBpZ62SKv",
        "outputId": "3e182e0e-f589-42c5-9a1d-d51b29335653"
      },
      "execution_count": 26,
      "outputs": [
        {
          "output_type": "stream",
          "name": "stdout",
          "text": [
            "Saved:\n",
            " - ACNdata (1)_clean.csv\n",
            " - ACNdata (1)_clean.parquet\n"
          ]
        }
      ]
    },
    {
      "cell_type": "code",
      "source": [],
      "metadata": {
        "id": "F8Ozu1s42SIG"
      },
      "execution_count": null,
      "outputs": []
    },
    {
      "cell_type": "code",
      "source": [],
      "metadata": {
        "id": "q1mmLOsx2SFz"
      },
      "execution_count": null,
      "outputs": []
    },
    {
      "cell_type": "code",
      "source": [],
      "metadata": {
        "id": "AIYW_bCG2SDf"
      },
      "execution_count": null,
      "outputs": []
    },
    {
      "cell_type": "code",
      "source": [],
      "metadata": {
        "id": "F2fcGcUv2SBH"
      },
      "execution_count": null,
      "outputs": []
    },
    {
      "cell_type": "code",
      "source": [],
      "metadata": {
        "id": "KmRuAWm92R_E"
      },
      "execution_count": null,
      "outputs": []
    },
    {
      "cell_type": "code",
      "source": [],
      "metadata": {
        "id": "0Vb_5R0L2R8P"
      },
      "execution_count": null,
      "outputs": []
    },
    {
      "cell_type": "code",
      "source": [],
      "metadata": {
        "id": "lAhE3Zio2R6B"
      },
      "execution_count": null,
      "outputs": []
    },
    {
      "cell_type": "code",
      "source": [],
      "metadata": {
        "id": "67klz-hA2R3X"
      },
      "execution_count": null,
      "outputs": []
    },
    {
      "cell_type": "code",
      "source": [],
      "metadata": {
        "id": "_RGPIYJI2R0z"
      },
      "execution_count": null,
      "outputs": []
    },
    {
      "cell_type": "code",
      "source": [],
      "metadata": {
        "id": "4A9s3-Lv2Rxt"
      },
      "execution_count": null,
      "outputs": []
    },
    {
      "cell_type": "code",
      "source": [],
      "metadata": {
        "id": "HOnA4Agt2RvE"
      },
      "execution_count": null,
      "outputs": []
    }
  ]
}